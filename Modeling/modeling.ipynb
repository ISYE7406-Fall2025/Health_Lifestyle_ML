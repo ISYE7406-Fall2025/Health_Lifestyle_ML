{
 "cells": [
  {
   "cell_type": "code",
   "execution_count": 1,
   "id": "d3c89a30",
   "metadata": {},
   "outputs": [],
   "source": [
    "import pandas as pd\n",
    "import numpy as np\n",
    "from sklearn.metrics import mean_squared_error, accuracy_score, brier_score_loss, make_scorer\n",
    "from sklearn.datasets import make_classification\n",
    "from sklearn.model_selection import train_test_split, GridSearchCV, StratifiedKFold\n",
    "from sklearn.compose import ColumnTransformer\n",
    "from sklearn.impute import KNNImputer\n",
    "from sklearn.preprocessing import StandardScaler, OneHotEncoder\n",
    "from sklearn.pipeline import Pipeline\n",
    "\n",
    "from sklearn.linear_model import LogisticRegression, LinearRegression\n",
    "from sklearn.discriminant_analysis import LinearDiscriminantAnalysis\n",
    "from sklearn.neighbors import KNeighborsClassifier\n",
    "from sklearn.tree import DecisionTreeClassifier\n",
    "\n",
    "from sklearn.ensemble import RandomForestClassifier, GradientBoostingClassifier\n"
   ]
  },
  {
   "cell_type": "markdown",
   "id": "06b720d2",
   "metadata": {},
   "source": [
    "## Have to convert our target variable \"target\" to predicted probabilities using Logistic Regression"
   ]
  },
  {
   "cell_type": "code",
   "execution_count": 2,
   "id": "8a14015d",
   "metadata": {},
   "outputs": [],
   "source": [
    "df = pd.read_csv(\"../Data/cleanedHealthData.csv\")"
   ]
  },
  {
   "cell_type": "code",
   "execution_count": 3,
   "id": "ff925a4a",
   "metadata": {},
   "outputs": [
    {
     "data": {
      "text/plain": [
       "target\n",
       "healthy     0.70097\n",
       "diseased    0.29903\n",
       "Name: proportion, dtype: float64"
      ]
     },
     "execution_count": 3,
     "metadata": {},
     "output_type": "execute_result"
    }
   ],
   "source": [
    "df['target'].value_counts(normalize=True)"
   ]
  },
  {
   "cell_type": "code",
   "execution_count": 4,
   "id": "1ce24e7b",
   "metadata": {},
   "outputs": [
    {
     "name": "stderr",
     "output_type": "stream",
     "text": [
      "C:\\Users\\admin\\AppData\\Local\\Temp\\ipykernel_24152\\1224594159.py:3: FutureWarning: Downcasting behavior in `replace` is deprecated and will be removed in a future version. To retain the old behavior, explicitly call `result.infer_objects(copy=False)`. To opt-in to the future behavior, set `pd.set_option('future.no_silent_downcasting', True)`\n",
      "  df['target'] = df['target'].replace({'healthy': 1, 'diseased': 0})\n"
     ]
    }
   ],
   "source": [
    "## Set target as 1|0\n",
    "\n",
    "df['target'] = df['target'].replace({'healthy': 1, 'diseased': 0})\n",
    "\n",
    "y = df['target']\n",
    "X = df.drop(columns='target')\n",
    "\n",
    "X_train, X_test, y_train, y_test = train_test_split(X, y, test_size=0.2, random_state=42)"
   ]
  },
  {
   "cell_type": "code",
   "execution_count": 5,
   "id": "8b6b637f",
   "metadata": {},
   "outputs": [],
   "source": [
    "## Separate all the columns\n",
    "numerical_cols = df.select_dtypes(include=['number']).columns\n",
    "categorical_cols = list(df.select_dtypes(exclude=['number']).columns)\n",
    "numerical_cols = [col for col in numerical_cols if col != 'target']"
   ]
  },
  {
   "cell_type": "code",
   "execution_count": 6,
   "id": "886578dc",
   "metadata": {},
   "outputs": [],
   "source": [
    "## Setup Numerical and Categorical Cols Transformers (KNNImputer, Scaler and OHE)\n",
    "\n",
    "num_transformer = Pipeline([\n",
    "    ('imputer', KNNImputer(n_neighbors=5)),\n",
    "    ('scaler', StandardScaler()),\n",
    "])\n",
    "\n",
    "cat_transformer = Pipeline([\n",
    "    ('ohe', OneHotEncoder(handle_unknown='ignore'))\n",
    "])\n",
    "\n",
    "preprocessor = ColumnTransformer(\n",
    "    transformers = [\n",
    "        ('num', num_transformer, numerical_cols),\n",
    "        ('cat', cat_transformer, categorical_cols)\n",
    "    ]\n",
    ")"
   ]
  },
  {
   "cell_type": "code",
   "execution_count": 13,
   "id": "627277f4",
   "metadata": {},
   "outputs": [
    {
     "name": "stdout",
     "output_type": "stream",
     "text": [
      "0.21077409547404927\n"
     ]
    }
   ],
   "source": [
    "## Logistic Regression pipeline (0.21077409547404927)\n",
    "\n",
    "pipeline = Pipeline(steps=[\n",
    "    ('preprocessor', preprocessor),\n",
    "    ('classifier', LogisticRegression())\n",
    "])\n",
    "\n",
    "pipeline.fit(X_train, y_train)\n",
    "\n",
    "## Predict\n",
    "\n",
    "y_pred_prob = pipeline.predict_proba(X_test)[:,1]\n",
    "\n",
    "## Brier Score Loss\n",
    "brier = brier_score_loss(y_test, y_pred_prob)\n",
    "print(brier)"
   ]
  },
  {
   "cell_type": "code",
   "execution_count": 8,
   "id": "0afb8dd1",
   "metadata": {},
   "outputs": [],
   "source": [
    "## Logistic Regression pipeline with balanced class weight (0.25024089874378147)\n",
    "\n",
    "# balanced_pipeline = Pipeline(steps=[\n",
    "#     ('preprocessor', preprocessor),\n",
    "#     ('classifier', LogisticRegression(class_weight='balanced'))\n",
    "# ])\n",
    "\n",
    "# balanced_pipeline.fit(X_train, y_train)\n",
    "\n",
    "# ## Predict\n",
    "\n",
    "# balanced_y_pred_prob = balanced_pipeline.predict_proba(X_test)[:,1]\n",
    "\n",
    "# ## Brier Score Loss\n",
    "# balanced_brier = brier_score_loss(y_test, balanced_y_pred_prob)\n",
    "# print(balanced_brier)"
   ]
  },
  {
   "cell_type": "code",
   "execution_count": 9,
   "id": "b9f3032d",
   "metadata": {},
   "outputs": [],
   "source": [
    "## Logistic Regression pipeline with higher weight to minority class (0.2500069097637534)\n",
    "\n",
    "# ratio_pipeline = Pipeline(steps=[\n",
    "#     ('preprocessor', preprocessor),\n",
    "#     ('classifier', LogisticRegression(class_weight={1: 0.29903, 0: 0.70097}))\n",
    "# ])\n",
    "\n",
    "# ratio_pipeline.fit(X_train, y_train)\n",
    "\n",
    "# ## Predict\n",
    "\n",
    "# ratio_y_pred_prob = ratio_pipeline.predict_proba(X_test)[:,1]\n",
    "\n",
    "# ## Brier Score Loss\n",
    "# ratio_brier = brier_score_loss(y_test, ratio_y_pred_prob)\n",
    "# print(ratio_brier)"
   ]
  },
  {
   "cell_type": "code",
   "execution_count": 14,
   "id": "f949ce16",
   "metadata": {},
   "outputs": [],
   "source": [
    "## Hyperparameter Tuning\n",
    "\n",
    "param_grid = {\n",
    "    'preprocessor__num__imputer__n_neighbors': [3, 5, 7, 9, 11],\n",
    "    'classifier__C': [0.01, 0.1, 1, 10],\n",
    "    # 'classifier__solver': ['lbfgs', 'sag', 'saga'], \n",
    "    'classifier__penalty': [None, 'l1', 'l2', 'elasticnet']\n",
    "}"
   ]
  },
  {
   "cell_type": "code",
   "execution_count": 15,
   "id": "2adeb29b",
   "metadata": {},
   "outputs": [],
   "source": [
    "## Set scoring function\n",
    "\n",
    "brier_scorer = make_scorer(brier_score_loss, needs_proba=True, greater_is_better=False)"
   ]
  },
  {
   "cell_type": "code",
   "execution_count": null,
   "id": "fae02918",
   "metadata": {},
   "outputs": [],
   "source": [
    "## KFold GridSearchCV (Parallel Computing)\n",
    "\n",
    "cv = StratifiedKFold(n_splits = 5, shuffle=True, random_state=42)\n",
    "\n",
    "grid_search = GridSearchCV(\n",
    "    estimator = pipeline,    ## Default pipeline had lowest brier score loss\n",
    "    param_grid = param_grid,\n",
    "    scoring = brier_scorer,\n",
    "    cv = cv,\n",
    "    verbose = 2,\n",
    "    n_jobs = -1\n",
    ")\n",
    "\n",
    "grid_search.fit(X_train, y_train)"
   ]
  },
  {
   "cell_type": "code",
   "execution_count": null,
   "id": "77036441",
   "metadata": {},
   "outputs": [],
   "source": [
    "print(\"Best parameters:\", grid_search.best_params_)\n",
    "print(\"Best Brier score:\", -grid_search.best_score_) "
   ]
  },
  {
   "cell_type": "code",
   "execution_count": null,
   "id": "b5012f90",
   "metadata": {},
   "outputs": [],
   "source": []
  },
  {
   "cell_type": "code",
   "execution_count": null,
   "id": "14bf180e",
   "metadata": {},
   "outputs": [],
   "source": []
  },
  {
   "cell_type": "code",
   "execution_count": null,
   "id": "d1dcce9f",
   "metadata": {},
   "outputs": [],
   "source": []
  }
 ],
 "metadata": {
  "kernelspec": {
   "display_name": "ISYE Environment",
   "language": "python",
   "name": "isye_env"
  },
  "language_info": {
   "codemirror_mode": {
    "name": "ipython",
    "version": 3
   },
   "file_extension": ".py",
   "mimetype": "text/x-python",
   "name": "python",
   "nbconvert_exporter": "python",
   "pygments_lexer": "ipython3",
   "version": "3.13.2"
  }
 },
 "nbformat": 4,
 "nbformat_minor": 5
}
